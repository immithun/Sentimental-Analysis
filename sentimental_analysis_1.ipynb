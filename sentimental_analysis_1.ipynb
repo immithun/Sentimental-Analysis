{
  "cells": [
    {
      "cell_type": "code",
      "execution_count": null,
      "metadata": {
        "id": "bbL0WSPggYRF"
      },
      "outputs": [],
      "source": [
        "import pandas as pd"
      ]
    },
    {
      "cell_type": "code",
      "execution_count": null,
      "metadata": {
        "id": "pon3hJ7sgYRG",
        "outputId": "2b25a4a2-5d1b-4f1c-8464-d82d48045ca1"
      },
      "outputs": [
        {
          "data": {
            "text/html": [
              "<div>\n",
              "<style scoped>\n",
              "    .dataframe tbody tr th:only-of-type {\n",
              "        vertical-align: middle;\n",
              "    }\n",
              "\n",
              "    .dataframe tbody tr th {\n",
              "        vertical-align: top;\n",
              "    }\n",
              "\n",
              "    .dataframe thead th {\n",
              "        text-align: right;\n",
              "    }\n",
              "</style>\n",
              "<table border=\"1\" class=\"dataframe\">\n",
              "  <thead>\n",
              "    <tr style=\"text-align: right;\">\n",
              "      <th></th>\n",
              "      <th>Product_name</th>\n",
              "      <th>Review</th>\n",
              "      <th>Rating</th>\n",
              "    </tr>\n",
              "  </thead>\n",
              "  <tbody>\n",
              "    <tr>\n",
              "      <th>0</th>\n",
              "      <td>Lenovo Ideapad Gaming 3 Ryzen 5 Hexa Core 5600...</td>\n",
              "      <td>Best under 60k Great performanceI got it for a...</td>\n",
              "      <td>5</td>\n",
              "    </tr>\n",
              "    <tr>\n",
              "      <th>1</th>\n",
              "      <td>Lenovo Ideapad Gaming 3 Ryzen 5 Hexa Core 5600...</td>\n",
              "      <td>Good perfomence...</td>\n",
              "      <td>5</td>\n",
              "    </tr>\n",
              "    <tr>\n",
              "      <th>2</th>\n",
              "      <td>Lenovo Ideapad Gaming 3 Ryzen 5 Hexa Core 5600...</td>\n",
              "      <td>Great performance but usually it has also that...</td>\n",
              "      <td>5</td>\n",
              "    </tr>\n",
              "    <tr>\n",
              "      <th>3</th>\n",
              "      <td>DELL Inspiron Athlon Dual Core 3050U - (4 GB/2...</td>\n",
              "      <td>My wife is so happy and best product 👌🏻😘</td>\n",
              "      <td>5</td>\n",
              "    </tr>\n",
              "    <tr>\n",
              "      <th>4</th>\n",
              "      <td>DELL Inspiron Athlon Dual Core 3050U - (4 GB/2...</td>\n",
              "      <td>Light weight laptop with new amazing features,...</td>\n",
              "      <td>5</td>\n",
              "    </tr>\n",
              "  </tbody>\n",
              "</table>\n",
              "</div>"
            ],
            "text/plain": [
              "                                        Product_name  \\\n",
              "0  Lenovo Ideapad Gaming 3 Ryzen 5 Hexa Core 5600...   \n",
              "1  Lenovo Ideapad Gaming 3 Ryzen 5 Hexa Core 5600...   \n",
              "2  Lenovo Ideapad Gaming 3 Ryzen 5 Hexa Core 5600...   \n",
              "3  DELL Inspiron Athlon Dual Core 3050U - (4 GB/2...   \n",
              "4  DELL Inspiron Athlon Dual Core 3050U - (4 GB/2...   \n",
              "\n",
              "                                              Review  Rating  \n",
              "0  Best under 60k Great performanceI got it for a...       5  \n",
              "1                                 Good perfomence...       5  \n",
              "2  Great performance but usually it has also that...       5  \n",
              "3           My wife is so happy and best product 👌🏻😘       5  \n",
              "4  Light weight laptop with new amazing features,...       5  "
            ]
          },
          "execution_count": 114,
          "metadata": {},
          "output_type": "execute_result"
        }
      ],
      "source": [
        "df = pd.read_csv(r\"C:\\Users\\tejes\\Downloads\\sentimental_analysis_dataset.csv\")\n",
        "df.head()"
      ]
    },
    {
      "cell_type": "code",
      "execution_count": null,
      "metadata": {
        "id": "MOF4RcArgYRH",
        "outputId": "548ef242-4d7d-414c-c36b-aabe6615ccdb"
      },
      "outputs": [
        {
          "data": {
            "text/html": [
              "<div>\n",
              "<style scoped>\n",
              "    .dataframe tbody tr th:only-of-type {\n",
              "        vertical-align: middle;\n",
              "    }\n",
              "\n",
              "    .dataframe tbody tr th {\n",
              "        vertical-align: top;\n",
              "    }\n",
              "\n",
              "    .dataframe thead th {\n",
              "        text-align: right;\n",
              "    }\n",
              "</style>\n",
              "<table border=\"1\" class=\"dataframe\">\n",
              "  <thead>\n",
              "    <tr style=\"text-align: right;\">\n",
              "      <th></th>\n",
              "      <th>Product_name</th>\n",
              "      <th>Review</th>\n",
              "      <th>Rating</th>\n",
              "      <th>result</th>\n",
              "    </tr>\n",
              "  </thead>\n",
              "  <tbody>\n",
              "    <tr>\n",
              "      <th>0</th>\n",
              "      <td>Lenovo Ideapad Gaming 3 Ryzen 5 Hexa Core 5600...</td>\n",
              "      <td>Best under 60k Great performanceI got it for a...</td>\n",
              "      <td>5</td>\n",
              "      <td>Positive</td>\n",
              "    </tr>\n",
              "    <tr>\n",
              "      <th>1</th>\n",
              "      <td>Lenovo Ideapad Gaming 3 Ryzen 5 Hexa Core 5600...</td>\n",
              "      <td>Good perfomence...</td>\n",
              "      <td>5</td>\n",
              "      <td>Positive</td>\n",
              "    </tr>\n",
              "    <tr>\n",
              "      <th>2</th>\n",
              "      <td>Lenovo Ideapad Gaming 3 Ryzen 5 Hexa Core 5600...</td>\n",
              "      <td>Great performance but usually it has also that...</td>\n",
              "      <td>5</td>\n",
              "      <td>Positive</td>\n",
              "    </tr>\n",
              "    <tr>\n",
              "      <th>3</th>\n",
              "      <td>DELL Inspiron Athlon Dual Core 3050U - (4 GB/2...</td>\n",
              "      <td>My wife is so happy and best product 👌🏻😘</td>\n",
              "      <td>5</td>\n",
              "      <td>Positive</td>\n",
              "    </tr>\n",
              "    <tr>\n",
              "      <th>4</th>\n",
              "      <td>DELL Inspiron Athlon Dual Core 3050U - (4 GB/2...</td>\n",
              "      <td>Light weight laptop with new amazing features,...</td>\n",
              "      <td>5</td>\n",
              "      <td>Positive</td>\n",
              "    </tr>\n",
              "  </tbody>\n",
              "</table>\n",
              "</div>"
            ],
            "text/plain": [
              "                                        Product_name  \\\n",
              "0  Lenovo Ideapad Gaming 3 Ryzen 5 Hexa Core 5600...   \n",
              "1  Lenovo Ideapad Gaming 3 Ryzen 5 Hexa Core 5600...   \n",
              "2  Lenovo Ideapad Gaming 3 Ryzen 5 Hexa Core 5600...   \n",
              "3  DELL Inspiron Athlon Dual Core 3050U - (4 GB/2...   \n",
              "4  DELL Inspiron Athlon Dual Core 3050U - (4 GB/2...   \n",
              "\n",
              "                                              Review  Rating    result  \n",
              "0  Best under 60k Great performanceI got it for a...       5  Positive  \n",
              "1                                 Good perfomence...       5  Positive  \n",
              "2  Great performance but usually it has also that...       5  Positive  \n",
              "3           My wife is so happy and best product 👌🏻😘       5  Positive  \n",
              "4  Light weight laptop with new amazing features,...       5  Positive  "
            ]
          },
          "execution_count": 115,
          "metadata": {},
          "output_type": "execute_result"
        }
      ],
      "source": [
        "result = 'result'\n",
        "def add_sentiment(rating):\n",
        "    if rating ==1 or rating ==2:\n",
        "        return 'Negative'\n",
        "    elif rating ==3:\n",
        "        return 'Neutral'\n",
        "    elif rating == 4 or rating ==5:\n",
        "        return 'Positive'\n",
        "df[result] = df['Rating'].apply(add_sentiment)\n",
        "new_data = 'updated_data.csv'\n",
        "df.to_csv(new_data,index=False)\n",
        "df = pd.read_csv(new_data)\n",
        "df.head()\n"
      ]
    },
    {
      "cell_type": "code",
      "execution_count": null,
      "metadata": {
        "id": "qJtSkwHkgYRH",
        "outputId": "2192d65c-ba0a-4a64-d855-3bee71db1510"
      },
      "outputs": [
        {
          "name": "stdout",
          "output_type": "stream",
          "text": [
            "140 1934 230\n"
          ]
        }
      ],
      "source": [
        "r1 = df['result']\n",
        "c1=0\n",
        "c2=0\n",
        "c3=0\n",
        "for i in r1:\n",
        "    if i=='Neutral':\n",
        "        c1+=1\n",
        "    elif i=='Positive':\n",
        "        c2+=1\n",
        "    elif i=='Negative':\n",
        "        c3+=1\n",
        "print(c1,c2,c3)"
      ]
    },
    {
      "cell_type": "code",
      "execution_count": null,
      "metadata": {
        "id": "3TMkW1gjgYRI"
      },
      "outputs": [],
      "source": [
        "import numpy as np\n",
        "import nltk\n",
        "from sklearn.model_selection import train_test_split\n",
        "from sklearn.metrics import accuracy_score,classification_report\n",
        "from sklearn.naive_bayes import MultinomialNB\n",
        "from sklearn.feature_extraction.text import CountVectorizer"
      ]
    },
    {
      "cell_type": "code",
      "execution_count": null,
      "metadata": {
        "id": "raqFTu43gYRI",
        "outputId": "1ac06e8a-6f65-4b42-ac18-4a146ab44cc4"
      },
      "outputs": [
        {
          "name": "stderr",
          "output_type": "stream",
          "text": [
            "[nltk_data] Error loading punkt: <urlopen error [Errno 11001]\n",
            "[nltk_data]     getaddrinfo failed>\n",
            "[nltk_data] Error loading stopwords: <urlopen error [Errno 11001]\n",
            "[nltk_data]     getaddrinfo failed>\n"
          ]
        },
        {
          "data": {
            "text/plain": [
              "False"
            ]
          },
          "execution_count": 118,
          "metadata": {},
          "output_type": "execute_result"
        }
      ],
      "source": [
        "nltk.download('punkt')\n",
        "nltk.download('stopwords')"
      ]
    },
    {
      "cell_type": "code",
      "execution_count": null,
      "metadata": {
        "id": "PpHKRRbGgYRI"
      },
      "outputs": [],
      "source": [
        "x = df.drop('result',axis=1)\n",
        "y = df['result']\n",
        "x.head()\n",
        "x = x[\"Review\"]\n",
        "train_x,test_x,train_y,test_y = train_test_split(x,y,test_size=0.3,random_state=42)"
      ]
    },
    {
      "cell_type": "code",
      "execution_count": null,
      "metadata": {
        "id": "kZS_bCWAgYRI",
        "outputId": "d487fe60-1b5b-4449-fddb-d01ad0a649c7"
      },
      "outputs": [
        {
          "name": "stderr",
          "output_type": "stream",
          "text": [
            "c:\\Users\\tejes\\AppData\\Local\\Programs\\Python\\Python310\\lib\\site-packages\\sklearn\\feature_extraction\\text.py:525: UserWarning: The parameter 'token_pattern' will not be used since 'tokenizer' is not None'\n",
            "  warnings.warn(\n",
            "c:\\Users\\tejes\\AppData\\Local\\Programs\\Python\\Python310\\lib\\site-packages\\sklearn\\feature_extraction\\text.py:408: UserWarning: Your stop_words may be inconsistent with your preprocessing. Tokenizing the stop words generated tokens [\"'d\", \"'ll\", \"'re\", \"'s\", \"'ve\", 'could', 'might', 'must', \"n't\", 'need', 'sha', 'wo', 'would'] not in stop_words.\n",
            "  warnings.warn(\n"
          ]
        },
        {
          "name": "stdout",
          "output_type": "stream",
          "text": [
            "(692, 4631)\n",
            "(1612,)\n"
          ]
        }
      ],
      "source": [
        "vectorizer = CountVectorizer(tokenizer=nltk.word_tokenize,stop_words=nltk.corpus.stopwords.words('english'))\n",
        "x_train_transformed = vectorizer.fit_transform(train_x)\n",
        "x_test_transformed = vectorizer.transform(test_x)\n",
        "print(x_test_transformed.shape)\n",
        "print(train_y.shape)"
      ]
    },
    {
      "cell_type": "code",
      "execution_count": null,
      "metadata": {
        "id": "k5tuyy5DgYRI",
        "outputId": "de66c252-1193-4d1a-ccd1-3d255d85f7e2"
      },
      "outputs": [
        {
          "data": {
            "text/html": [
              "<style>#sk-container-id-9 {color: black;}#sk-container-id-9 pre{padding: 0;}#sk-container-id-9 div.sk-toggleable {background-color: white;}#sk-container-id-9 label.sk-toggleable__label {cursor: pointer;display: block;width: 100%;margin-bottom: 0;padding: 0.3em;box-sizing: border-box;text-align: center;}#sk-container-id-9 label.sk-toggleable__label-arrow:before {content: \"▸\";float: left;margin-right: 0.25em;color: #696969;}#sk-container-id-9 label.sk-toggleable__label-arrow:hover:before {color: black;}#sk-container-id-9 div.sk-estimator:hover label.sk-toggleable__label-arrow:before {color: black;}#sk-container-id-9 div.sk-toggleable__content {max-height: 0;max-width: 0;overflow: hidden;text-align: left;background-color: #f0f8ff;}#sk-container-id-9 div.sk-toggleable__content pre {margin: 0.2em;color: black;border-radius: 0.25em;background-color: #f0f8ff;}#sk-container-id-9 input.sk-toggleable__control:checked~div.sk-toggleable__content {max-height: 200px;max-width: 100%;overflow: auto;}#sk-container-id-9 input.sk-toggleable__control:checked~label.sk-toggleable__label-arrow:before {content: \"▾\";}#sk-container-id-9 div.sk-estimator input.sk-toggleable__control:checked~label.sk-toggleable__label {background-color: #d4ebff;}#sk-container-id-9 div.sk-label input.sk-toggleable__control:checked~label.sk-toggleable__label {background-color: #d4ebff;}#sk-container-id-9 input.sk-hidden--visually {border: 0;clip: rect(1px 1px 1px 1px);clip: rect(1px, 1px, 1px, 1px);height: 1px;margin: -1px;overflow: hidden;padding: 0;position: absolute;width: 1px;}#sk-container-id-9 div.sk-estimator {font-family: monospace;background-color: #f0f8ff;border: 1px dotted black;border-radius: 0.25em;box-sizing: border-box;margin-bottom: 0.5em;}#sk-container-id-9 div.sk-estimator:hover {background-color: #d4ebff;}#sk-container-id-9 div.sk-parallel-item::after {content: \"\";width: 100%;border-bottom: 1px solid gray;flex-grow: 1;}#sk-container-id-9 div.sk-label:hover label.sk-toggleable__label {background-color: #d4ebff;}#sk-container-id-9 div.sk-serial::before {content: \"\";position: absolute;border-left: 1px solid gray;box-sizing: border-box;top: 0;bottom: 0;left: 50%;z-index: 0;}#sk-container-id-9 div.sk-serial {display: flex;flex-direction: column;align-items: center;background-color: white;padding-right: 0.2em;padding-left: 0.2em;position: relative;}#sk-container-id-9 div.sk-item {position: relative;z-index: 1;}#sk-container-id-9 div.sk-parallel {display: flex;align-items: stretch;justify-content: center;background-color: white;position: relative;}#sk-container-id-9 div.sk-item::before, #sk-container-id-9 div.sk-parallel-item::before {content: \"\";position: absolute;border-left: 1px solid gray;box-sizing: border-box;top: 0;bottom: 0;left: 50%;z-index: -1;}#sk-container-id-9 div.sk-parallel-item {display: flex;flex-direction: column;z-index: 1;position: relative;background-color: white;}#sk-container-id-9 div.sk-parallel-item:first-child::after {align-self: flex-end;width: 50%;}#sk-container-id-9 div.sk-parallel-item:last-child::after {align-self: flex-start;width: 50%;}#sk-container-id-9 div.sk-parallel-item:only-child::after {width: 0;}#sk-container-id-9 div.sk-dashed-wrapped {border: 1px dashed gray;margin: 0 0.4em 0.5em 0.4em;box-sizing: border-box;padding-bottom: 0.4em;background-color: white;}#sk-container-id-9 div.sk-label label {font-family: monospace;font-weight: bold;display: inline-block;line-height: 1.2em;}#sk-container-id-9 div.sk-label-container {text-align: center;}#sk-container-id-9 div.sk-container {/* jupyter's `normalize.less` sets `[hidden] { display: none; }` but bootstrap.min.css set `[hidden] { display: none !important; }` so we also need the `!important` here to be able to override the default hidden behavior on the sphinx rendered scikit-learn.org. See: https://github.com/scikit-learn/scikit-learn/issues/21755 */display: inline-block !important;position: relative;}#sk-container-id-9 div.sk-text-repr-fallback {display: none;}</style><div id=\"sk-container-id-9\" class=\"sk-top-container\"><div class=\"sk-text-repr-fallback\"><pre>MultinomialNB()</pre><b>In a Jupyter environment, please rerun this cell to show the HTML representation or trust the notebook. <br />On GitHub, the HTML representation is unable to render, please try loading this page with nbviewer.org.</b></div><div class=\"sk-container\" hidden><div class=\"sk-item\"><div class=\"sk-estimator sk-toggleable\"><input class=\"sk-toggleable__control sk-hidden--visually\" id=\"sk-estimator-id-9\" type=\"checkbox\" checked><label for=\"sk-estimator-id-9\" class=\"sk-toggleable__label sk-toggleable__label-arrow\">MultinomialNB</label><div class=\"sk-toggleable__content\"><pre>MultinomialNB()</pre></div></div></div></div></div>"
            ],
            "text/plain": [
              "MultinomialNB()"
            ]
          },
          "execution_count": 121,
          "metadata": {},
          "output_type": "execute_result"
        }
      ],
      "source": [
        "clf = MultinomialNB()\n",
        "clf.fit(x_train_transformed,train_y)"
      ]
    },
    {
      "cell_type": "code",
      "execution_count": null,
      "metadata": {
        "id": "9RHknKYNgYRJ",
        "outputId": "f96e67bc-efb9-4400-c491-1d189431da70"
      },
      "outputs": [
        {
          "data": {
            "text/plain": [
              "array(['Positive', 'Positive', 'Positive', 'Positive', 'Positive',\n",
              "       'Positive', 'Positive', 'Positive', 'Positive', 'Positive',\n",
              "       'Negative', 'Positive', 'Positive', 'Positive', 'Positive',\n",
              "       'Positive', 'Positive', 'Positive', 'Positive', 'Positive',\n",
              "       'Positive', 'Positive', 'Positive', 'Positive', 'Positive',\n",
              "       'Positive', 'Positive', 'Positive', 'Positive', 'Positive',\n",
              "       'Positive', 'Positive', 'Positive', 'Positive', 'Positive',\n",
              "       'Positive', 'Positive', 'Positive', 'Positive', 'Positive',\n",
              "       'Negative', 'Positive', 'Positive', 'Positive', 'Positive',\n",
              "       'Positive', 'Positive', 'Positive', 'Positive', 'Positive',\n",
              "       'Positive', 'Positive', 'Positive', 'Positive', 'Positive',\n",
              "       'Positive', 'Positive', 'Positive', 'Positive', 'Positive',\n",
              "       'Positive', 'Positive', 'Positive', 'Positive', 'Positive',\n",
              "       'Positive', 'Positive', 'Positive', 'Positive', 'Positive',\n",
              "       'Positive', 'Positive', 'Positive', 'Positive', 'Positive',\n",
              "       'Positive', 'Positive', 'Positive', 'Positive', 'Positive',\n",
              "       'Positive', 'Positive', 'Positive', 'Positive', 'Positive',\n",
              "       'Positive', 'Positive', 'Positive', 'Positive', 'Positive',\n",
              "       'Positive', 'Positive', 'Positive', 'Positive', 'Positive',\n",
              "       'Positive', 'Positive', 'Positive', 'Positive', 'Positive',\n",
              "       'Positive', 'Positive', 'Positive', 'Positive', 'Positive',\n",
              "       'Positive', 'Positive', 'Positive', 'Positive', 'Positive',\n",
              "       'Positive', 'Positive', 'Positive', 'Positive', 'Positive',\n",
              "       'Positive', 'Positive', 'Positive', 'Negative', 'Positive',\n",
              "       'Positive', 'Positive', 'Positive', 'Negative', 'Positive',\n",
              "       'Positive', 'Positive', 'Positive', 'Positive', 'Positive',\n",
              "       'Positive', 'Positive', 'Positive', 'Negative', 'Positive',\n",
              "       'Positive', 'Positive', 'Positive', 'Positive', 'Positive',\n",
              "       'Positive', 'Positive', 'Positive', 'Positive', 'Positive',\n",
              "       'Positive', 'Positive', 'Positive', 'Positive', 'Negative',\n",
              "       'Neutral', 'Positive', 'Positive', 'Positive', 'Positive',\n",
              "       'Positive', 'Positive', 'Positive', 'Positive', 'Positive',\n",
              "       'Positive', 'Positive', 'Positive', 'Positive', 'Negative',\n",
              "       'Positive', 'Positive', 'Positive', 'Neutral', 'Positive',\n",
              "       'Positive', 'Positive', 'Positive', 'Positive', 'Positive',\n",
              "       'Positive', 'Positive', 'Positive', 'Positive', 'Positive',\n",
              "       'Positive', 'Positive', 'Positive', 'Positive', 'Positive',\n",
              "       'Positive', 'Positive', 'Positive', 'Positive', 'Positive',\n",
              "       'Positive', 'Positive', 'Positive', 'Positive', 'Positive',\n",
              "       'Positive', 'Positive', 'Positive', 'Positive', 'Positive',\n",
              "       'Positive', 'Positive', 'Positive', 'Positive', 'Positive',\n",
              "       'Positive', 'Positive', 'Positive', 'Negative', 'Positive',\n",
              "       'Positive', 'Positive', 'Positive', 'Positive', 'Positive',\n",
              "       'Positive', 'Positive', 'Positive', 'Positive', 'Positive',\n",
              "       'Positive', 'Positive', 'Positive', 'Positive', 'Positive',\n",
              "       'Positive', 'Positive', 'Positive', 'Positive', 'Positive',\n",
              "       'Positive', 'Positive', 'Positive', 'Positive', 'Positive',\n",
              "       'Positive', 'Positive', 'Positive', 'Positive', 'Positive',\n",
              "       'Positive', 'Positive', 'Positive', 'Positive', 'Positive',\n",
              "       'Negative', 'Positive', 'Positive', 'Positive', 'Positive',\n",
              "       'Positive', 'Positive', 'Negative', 'Positive', 'Positive',\n",
              "       'Positive', 'Positive', 'Positive', 'Positive', 'Positive',\n",
              "       'Positive', 'Positive', 'Positive', 'Positive', 'Positive',\n",
              "       'Positive', 'Positive', 'Positive', 'Positive', 'Positive',\n",
              "       'Positive', 'Positive', 'Positive', 'Positive', 'Positive',\n",
              "       'Negative', 'Positive', 'Positive', 'Positive', 'Positive',\n",
              "       'Positive', 'Positive', 'Positive', 'Positive', 'Positive',\n",
              "       'Positive', 'Positive', 'Positive', 'Positive', 'Negative',\n",
              "       'Negative', 'Positive', 'Positive', 'Positive', 'Positive',\n",
              "       'Positive', 'Positive', 'Positive', 'Positive', 'Positive',\n",
              "       'Positive', 'Negative', 'Positive', 'Positive', 'Positive',\n",
              "       'Positive', 'Positive', 'Positive', 'Positive', 'Positive',\n",
              "       'Positive', 'Positive', 'Positive', 'Positive', 'Positive',\n",
              "       'Positive', 'Positive', 'Positive', 'Positive', 'Positive',\n",
              "       'Positive', 'Positive', 'Positive', 'Positive', 'Positive',\n",
              "       'Positive', 'Positive', 'Positive', 'Positive', 'Positive',\n",
              "       'Positive', 'Positive', 'Positive', 'Positive', 'Positive',\n",
              "       'Positive', 'Positive', 'Positive', 'Positive', 'Positive',\n",
              "       'Positive', 'Positive', 'Positive', 'Positive', 'Positive',\n",
              "       'Positive', 'Positive', 'Positive', 'Positive', 'Positive',\n",
              "       'Positive', 'Positive', 'Neutral', 'Positive', 'Positive',\n",
              "       'Positive', 'Positive', 'Positive', 'Negative', 'Positive',\n",
              "       'Positive', 'Positive', 'Positive', 'Positive', 'Positive',\n",
              "       'Positive', 'Neutral', 'Negative', 'Positive', 'Positive',\n",
              "       'Positive', 'Positive', 'Positive', 'Positive', 'Positive',\n",
              "       'Positive', 'Positive', 'Positive', 'Positive', 'Positive',\n",
              "       'Positive', 'Positive', 'Positive', 'Positive', 'Positive',\n",
              "       'Positive', 'Positive', 'Positive', 'Positive', 'Positive',\n",
              "       'Positive', 'Positive', 'Positive', 'Positive', 'Positive',\n",
              "       'Positive', 'Positive', 'Positive', 'Positive', 'Positive',\n",
              "       'Positive', 'Positive', 'Neutral', 'Positive', 'Positive',\n",
              "       'Positive', 'Positive', 'Neutral', 'Positive', 'Positive',\n",
              "       'Positive', 'Positive', 'Positive', 'Positive', 'Positive',\n",
              "       'Positive', 'Positive', 'Positive', 'Positive', 'Positive',\n",
              "       'Positive', 'Positive', 'Positive', 'Positive', 'Negative',\n",
              "       'Positive', 'Positive', 'Positive', 'Positive', 'Positive',\n",
              "       'Positive', 'Positive', 'Positive', 'Positive', 'Positive',\n",
              "       'Positive', 'Positive', 'Positive', 'Positive', 'Positive',\n",
              "       'Negative', 'Positive', 'Positive', 'Positive', 'Positive',\n",
              "       'Positive', 'Positive', 'Negative', 'Positive', 'Positive',\n",
              "       'Positive', 'Positive', 'Positive', 'Positive', 'Positive',\n",
              "       'Positive', 'Positive', 'Positive', 'Positive', 'Positive',\n",
              "       'Positive', 'Positive', 'Positive', 'Positive', 'Negative',\n",
              "       'Positive', 'Positive', 'Positive', 'Positive', 'Positive',\n",
              "       'Positive', 'Positive', 'Negative', 'Positive', 'Positive',\n",
              "       'Positive', 'Positive', 'Positive', 'Positive', 'Positive',\n",
              "       'Positive', 'Positive', 'Positive', 'Positive', 'Positive',\n",
              "       'Positive', 'Positive', 'Positive', 'Positive', 'Positive',\n",
              "       'Positive', 'Positive', 'Positive', 'Positive', 'Positive',\n",
              "       'Positive', 'Positive', 'Negative', 'Positive', 'Positive',\n",
              "       'Positive', 'Positive', 'Positive', 'Positive', 'Positive',\n",
              "       'Positive', 'Positive', 'Positive', 'Positive', 'Positive',\n",
              "       'Positive', 'Positive', 'Positive', 'Positive', 'Positive',\n",
              "       'Positive', 'Positive', 'Positive', 'Positive', 'Positive',\n",
              "       'Positive', 'Positive', 'Positive', 'Positive', 'Positive',\n",
              "       'Positive', 'Positive', 'Positive', 'Positive', 'Positive',\n",
              "       'Negative', 'Positive', 'Positive', 'Positive', 'Positive',\n",
              "       'Positive', 'Positive', 'Positive', 'Positive', 'Negative',\n",
              "       'Positive', 'Positive', 'Negative', 'Positive', 'Positive',\n",
              "       'Positive', 'Positive', 'Positive', 'Positive', 'Negative',\n",
              "       'Positive', 'Positive', 'Positive', 'Neutral', 'Positive',\n",
              "       'Positive', 'Positive', 'Positive', 'Positive', 'Positive',\n",
              "       'Positive', 'Positive', 'Positive', 'Positive', 'Positive',\n",
              "       'Positive', 'Positive', 'Positive', 'Positive', 'Positive',\n",
              "       'Neutral', 'Positive', 'Positive', 'Positive', 'Positive',\n",
              "       'Positive', 'Positive', 'Positive', 'Positive', 'Positive',\n",
              "       'Positive', 'Positive', 'Positive', 'Positive', 'Positive',\n",
              "       'Positive', 'Positive', 'Neutral', 'Positive', 'Positive',\n",
              "       'Positive', 'Positive', 'Positive', 'Positive', 'Positive',\n",
              "       'Positive', 'Positive', 'Positive', 'Positive', 'Positive',\n",
              "       'Positive', 'Positive', 'Negative', 'Positive', 'Positive',\n",
              "       'Positive', 'Positive', 'Positive', 'Positive', 'Positive',\n",
              "       'Positive', 'Positive', 'Positive', 'Positive', 'Positive',\n",
              "       'Positive', 'Positive', 'Positive', 'Positive', 'Positive',\n",
              "       'Positive', 'Positive', 'Positive', 'Positive', 'Positive',\n",
              "       'Positive', 'Positive', 'Positive', 'Positive', 'Positive',\n",
              "       'Positive', 'Positive', 'Positive', 'Positive', 'Positive',\n",
              "       'Positive', 'Positive', 'Positive', 'Positive', 'Positive',\n",
              "       'Positive', 'Positive', 'Positive', 'Positive', 'Positive',\n",
              "       'Positive', 'Positive', 'Positive', 'Positive', 'Positive',\n",
              "       'Negative', 'Positive', 'Positive', 'Neutral', 'Negative',\n",
              "       'Positive', 'Positive', 'Positive', 'Positive', 'Positive',\n",
              "       'Positive', 'Positive', 'Positive', 'Positive', 'Positive',\n",
              "       'Positive', 'Positive', 'Positive', 'Positive', 'Positive',\n",
              "       'Positive', 'Positive', 'Positive', 'Positive', 'Positive',\n",
              "       'Positive', 'Positive', 'Positive', 'Positive', 'Positive',\n",
              "       'Positive', 'Positive', 'Positive', 'Positive', 'Negative',\n",
              "       'Positive', 'Positive', 'Positive', 'Positive', 'Positive',\n",
              "       'Positive', 'Positive'], dtype='<U8')"
            ]
          },
          "execution_count": 122,
          "metadata": {},
          "output_type": "execute_result"
        }
      ],
      "source": [
        "prediction  = clf.predict(x_test_transformed)\n",
        "prediction"
      ]
    },
    {
      "cell_type": "code",
      "execution_count": null,
      "metadata": {
        "id": "4EXqN9sagYRJ",
        "outputId": "fcd772b5-cc6a-42e4-e3b3-a2356c3dd938"
      },
      "outputs": [
        {
          "name": "stdout",
          "output_type": "stream",
          "text": [
            "The accuracy is :  0.9075144508670521\n"
          ]
        }
      ],
      "source": [
        "accuracy = accuracy_score(test_y,prediction)\n",
        "print(\"The accuracy is : \",accuracy)"
      ]
    },
    {
      "cell_type": "code",
      "execution_count": null,
      "metadata": {
        "id": "dWrfwJzpgYRJ",
        "outputId": "ef034593-c044-4d31-9e85-14304a82eab4"
      },
      "outputs": [
        {
          "name": "stdout",
          "output_type": "stream",
          "text": [
            "['Positive']\n"
          ]
        }
      ],
      "source": [
        "new = pd.read_csv(r\"C:\\Software\\Programming_WorkSpace\\pythoncode\\DSA_in_python\\text.csv\")\n",
        "new_t = vectorizer.transform(new)\n",
        "pred1 = clf.predict(new_t)\n",
        "print(pred1)"
      ]
    },
    {
      "cell_type": "code",
      "execution_count": null,
      "metadata": {
        "id": "VYvYsXzzgYRJ",
        "outputId": "fdd16361-65aa-42f3-c5b7-3d2415aff955"
      },
      "outputs": [
        {
          "name": "stdout",
          "output_type": "stream",
          "text": [
            "231\n",
            "10\n"
          ]
        }
      ],
      "source": [
        "p_name = df['Product_name']\n",
        "p_name.head()\n",
        "t1 = list(p_name)\n",
        "t2 = list(set(t1))\n",
        "print(len(t2))\n",
        "print(t1.count(t2[0]))\n",
        "\n",
        "\n",
        "\n",
        "\n",
        "\n",
        "\n",
        "\n"
      ]
    },
    {
      "cell_type": "code",
      "execution_count": null,
      "metadata": {
        "id": "SfrHNWcegYRK",
        "outputId": "42b9c2f3-2fd3-4a9b-ae2c-ddcc68a91864"
      },
      "outputs": [
        {
          "name": "stdout",
          "output_type": "stream",
          "text": [
            "LAVA Hero 600+  (Blue, Green)\n",
            "Godrej 185 L Direct Cool Single Door 4 Star Refrigerator  (Aqua Blue, RD UNO 1854 PTI AQ BL)\n",
            "SAMSUNG 230 L Direct Cool Single Door 3 Star Refrigerator with Base Drawer  (Camellia Purple, RR24T285YCR/NL)\n",
            "Redmi 9A (Nature Green, 32 GB)  (2 GB RAM)\n",
            "Redmi Y1 lite (Grey, 16 GB)  (2 GB RAM)\n",
            "SAMSUNG 80 cm (32 inch) HD Ready LED Smart TV with Voice Search  (UA32TE40FAKBXL)\n",
            "Lenovo 18.5 inch HD TN Panel Monitor (D19-10)  (Response Time: 5 ms, 60 Hz Refresh Rate)\n",
            "POCO C31 (Royal Blue, 64 GB)  (4 GB RAM)\n",
            "DELL Vostro Ryzen 3 Dual Core R3-3250U - (8 GB/1 TB HDD/Windows 11 Home) Vostro 3405 Thin and Light Laptop  (14 inch, Accent Black, 1.59 Kg, With MS Office)\n",
            "Lenovo IdeaPad Gaming 3 Core i5 11th Gen - (8 GB/512 GB SSD/Windows 10 Home/4 GB Graphics/NVIDIA GeForce GTX 1650) 15IHU6 Gaming Laptop  (15.6 inch, Shadow Black, 2.25 kg, With MS Office)\n",
            "Lenovo IdeaPad 3 Core i3 11th Gen - (8 GB/512 GB SSD/Windows 11 Home) 15ITL6 Thin and Light Laptop  (15.6 inch, Arctic Grey, 1.65 kg, With MS Office)\n",
            "LG 19M 18.5 inches HD LED Backlit TN Panel Monitor (19M38AB)  (Response Time: 5 ms, 60 Hz Refresh Rate)\n",
            "Xiaomi 11i 5G (Pacific Pearl, 128 GB)  (6 GB RAM)\n",
            "Lenovo 27 inch Full HD VA Panel with TUV Eye Care Monitor (D27-30)  (Response Time: 4 ms, 75 Hz Refresh Rate)\n",
            "Lenovo G Series 23.8 inch Full HD LED Backlit IPS Panel Gaming Monitor (G24-20)  (Response Time: 0.5 ms)\n",
            "SAMSUNG Galaxy F12 (Sea Green, 128 GB)  (4 GB RAM)\n",
            "LG 260 L Frost Free Double Door Top Mount 3 Star Convertible Refrigerator  (Dazzle Steel, GL-S292RDSX)\n",
            "realme Narzo 50A (Oxygen Green, 64 GB)  (4 GB RAM)\n",
            "realme C25Y (Glacier Blue, 128 GB)  (4 GB RAM)\n",
            "SAMSUNG Galaxy M12 (Black, 64 GB)  (4 GB RAM)\n",
            "Xiaomi 11i Hypercharge 5G (Pacific Pearl, 128 GB)  (6 GB RAM)\n",
            "Whirlpool 7.5 kg Fully Automatic Top Load with In-built Heater Grey  (SW PRO H 7.5 Shiny Grey (EC)10YMW)\n",
            "Candes 7.2 kg Semi Automatic Top Load Blue, White  (CTPL72PL1SWM)\n",
            "realme C21Y (Cross Black, 64 GB)  (4 GB RAM)\n",
            "LG 21.5 inch Full HD IPS Panel Ultra Thin Monitor (22MK600M)  (AMD Free Sync, Response Time: 5 ms, 75 Hz Refresh Rate)\n",
            "HP Ryzen 3 Dual Core 3250U - (8 GB/256 GB SSD/Windows 10 Home) 15s-GY0501AU Thin and Light Laptop  (15.6 inch, Natural Silver, 1.69 kg, With MS Office)\n",
            "SAMSUNG 6.5 kg Diamond Drum feature Fully Automatic Top Load Silver  (WA65A4002VS/TL)\n",
            "realme 9i (Prism Black, 64 GB)  (4 GB RAM)\n",
            "Redmi 9A Sport (Metallic Blue, 32 GB)  (2 GB RAM)\n",
            "SAMSUNG 192 L Direct Cool Single Door 1 Star Refrigerator  (Scarlet Red, RR19T21CARH/NL)\n",
            "SAMSUNG Galaxy M12 (Blue, 128 GB)  (6 GB RAM)\n",
            "SAMSUNG Galaxy F12 (Sea Green, 64 GB)  (4 GB RAM)\n",
            "Godrej 6.2 kg Fully Automatic Top Load Grey  (WT EON 620 AP GP GR)\n",
            "HP Core i3 11th Gen - (8 GB/512 GB SSD/Windows 11 Home) 15s-dy3501TU Thin and Light Laptop  (15.6 inch, Natural Silver, 1.75 kg, With MS Office)\n",
            "DELL Inspiron Athlon Dual Core 3050U - (4 GB/256 GB SSD/Windows 11 Home) INSPIRON 3515 Thin and Light Laptop  (15.6 Inch, Carbon Black, 1.8 Kgs, With MS Office)\n",
            "LG 190 L Direct Cool Single Door 4 Star Refrigerator with Base Drawer  (Scarlet Charm, GL-D201ASCY)\n",
            "REDMI Note 11T 5G (Aquamarine Blue, 64 GB)  (6 GB RAM)\n",
            "realme C21Y (Cross Blue, 32 GB)  (3 GB RAM)\n",
            "LAVA Flip  (Blue)\n",
            "Redmi 9A (Midnight Black, 32 GB)  (2 GB RAM)\n",
            "SAMSUNG Galaxy F12 (Celestial Black, 64 GB)  (4 GB RAM)\n",
            "LG 24 inch Full HD LED Backlit IPS Panel Monitor (24MP400)  (Response Time: 5 ms)\n",
            "BenQ 27 inch Full HD LED Backlit IPS Panel Monitor (GW2780)  (Response Time: 5 ms, 60 Hz Refresh Rate)\n",
            "realme C25Y (Metal Grey, 64 GB)  (4 GB RAM)\n",
            "realme C20 (Cool Grey, 32 GB)  (2 GB RAM)\n",
            "SAMSUNG Galaxy F12 (Sky Blue, 64 GB)  (4 GB RAM)\n",
            "ZEBRONICS 18.5 inch HD Monitor (ZEB-V19HD LED)  (Response Time: 8 ms)\n",
            "realme Narzo 50i (Mint Green, 64 GB)  (4 GB RAM)\n",
            "DELL Inspiron Ryzen 3 Dual Core 3250U - (8 GB/256 GB SSD/Windows 11 Home) INSPIRON 3515 Thin and Light Laptop  (15.6 Inch, Carbon Black, 1.8 Kgs, With MS Office)\n",
            "realme Narzo 30 (Racing Blue, 128 GB)  (6 GB RAM)\n",
            "realme C11 2021 (Cool Grey, 64 GB)  (4 GB RAM)\n",
            "LG 22 inch Full HD LED Backlit IPS Panel Monitor (22MP68VQ)  (AMD Free Sync, Response Time: 5 ms, 75 Hz Refresh Rate)\n",
            "Xiaomi 11i 5G (Purple Mist, 128 GB)  (8 GB RAM)\n",
            "SAMSUNG Galaxy A12 (Black, 128 GB)  (6 GB RAM)\n",
            "SAMSUNG Galaxy F22 (Denim Black, 64 GB)  (4 GB RAM)\n",
            "HP M Series 27 inch Full HD LED Backlit IPS Panel Ultra Slim Bezel Monitor (M27f)  (Response Time: 5 ms, 75 Hz Refresh Rate)\n",
            "DELL 19.5 inch HD Monitor (D2020H)  (Response Time: 5 ms)\n",
            "realme 9i (Prism Black, 128 GB)  (6 GB RAM)\n",
            "Lenovo Legion 5 Ryzen 5 Hexa Core 4600H - (8 GB/1 TB HDD/256 GB SSD/Windows 10 Home/4 GB Graphics/NVIDIA GeForce GTX 1650/120 Hz) 15ARH05 Gaming Laptop  (15.6 inch, Phantom Black, 2.3 kg)\n",
            "Redmi 9A Sport (Carbon Black, 32 GB)  (2 GB RAM)\n",
            "Haier 195 L Direct Cool Single Door 5 Star Refrigerator  (Brushline Silver, HED-20FDS)\n",
            "Xiaomi 11i Hypercharge 5G (Camo Green, 128 GB)  (6 GB RAM)\n",
            "realme Narzo 50A (Oxygen Green, 128 GB)  (4 GB RAM)\n",
            "SAMSUNG 230 L Direct Cool Single Door 3 Star Refrigerator  (Elegant Inox, RR24A2Y2YS8/NL)\n",
            "Xiaomi 11i Hypercharge 5G (Purple Mist, 128 GB)  (6 GB RAM)\n",
            "realme Narzo 50i (Carbon Black, 64 GB)  (4 GB RAM)\n",
            "SAMSUNG M21 2021 Edition (Charcoal Black, 64 GB)  (4 GB RAM)\n",
            "SAMSUNG 192 L Direct Cool Single Door 2 Star Refrigerator  (Gray Silver, RR19A241BGS/NL)\n",
            "Redmi 7A (Matte Gold, 32 GB)  (2 GB RAM)\n",
            "realme C20 (Cool Blue, 32 GB)  (2 GB RAM)\n",
            "ASUS VivoBook 15 (2021) Core i3 10th Gen - (8 GB/512 GB SSD/Windows 11 Home) X515JA-EJ362WS Thin and Light Laptop  (15.6 inch, Transparent Silver, 1.80 kg, With MS Office)\n",
            "RedmiBook 15 e-Learning Edition Core i3 11th Gen - (8 GB/256 GB SSD/Windows 10 Home) Thin and Light Laptop  (15.6 inch, Charcoal Gray, 1.8 kg, With MS Office)\n",
            "POCO C31 (Shadow Gray, 64 GB)  (4 GB RAM)\n",
            "Xiaomi 11i 5G (Pacific Pearl, 128 GB)  (8 GB RAM)\n",
            "SAMSUNG 253 L Frost Free Double Door 3 Star Convertible Refrigerator  (Elegant Inox, RT28T3743S8/HL)\n",
            "SAMSUNG 7.2 kg with Double Storm Technology Semi Automatic Top Load White  (WT725QPNDMPXTL 02)\n",
            "LG 190 L Direct Cool Single Door 5 Star Refrigerator with Base Drawer  with Smart Inverter Compressor  (Blue Charm, GL-D201ABCZ)\n",
            "Mi 5X 125.7 cm (50 inch) Ultra HD (4K) LED Smart Android TV with Dolby Atmos and Dolby Vision\n",
            "SAMSUNG 198 L Direct Cool Single Door 4 Star Refrigerator with Base Drawer  (Camellia Purple, RR21T2H2XCR/HL)\n",
            "SAMSUNG 6.5 kg 5 Star Inverter with Diamond Drum Fully Automatic Top Load Grey  (WA65T4262GG/TL)\n",
            "SAMSUNG Guru Music 2  (Gold)\n",
            "REDMI NOTE 10 LITE (Glacier White, 128 GB)  (4 GB RAM)\n",
            "Lenovo ThinkBook 13s Core i5 11th Gen - (8 GB/512 GB SSD/Windows 10 Home) TB13s ITL Gen 2 Thin and Light Laptop  (13 inch, Mineral Grey, 1.26 kg, With MS Office)\n",
            "LAVA A3  (Dark Blue + Grey S D)\n",
            "SAMSUNG Galaxy M32 (Black, 64 GB)  (4 GB RAM)\n",
            "Xiaomi 11Lite NE (Diamond Dazzle, 128 GB)  (8 GB RAM)\n",
            "HP M Series 23.8 inch Full HD LED Backlit IPS Panel Monitor (M24f)  (Response Time: 5 ms, 75 Hz Refresh Rate)\n",
            "realme Narzo 30 (Racing Blue, 64 GB)  (4 GB RAM)\n",
            "ASUS VivoBook 15 (2021) Core i3 11th Gen - (4 GB/256 GB SSD/Windows 10 Home) X515EA-EJ302TS Thin and Light Laptop  (15.6 inch, Transparent Silver, 1.80 kg, With MS Office)\n",
            "SAMSUNG Galaxy F42 5G (Matte Aqua, 128 GB)  (6 GB RAM)\n",
            "HP M Series 21.5 inch Full HD LED Backlit IPS Panel Monitor (M22f)  (Response Time: 5 ms, 75 Hz Refresh Rate)\n",
            "Lloyd 8.5 kg Semi Automatic Top Load Red, White  (LWMS85RDB)\n",
            "realme C25_Y (Glacier Blue, 64 GB)  (4 GB RAM)\n",
            "Whirlpool 190 L Direct Cool Single Door 2 Star Refrigerator with Base Drawer  (Sapphire, WDE 205 ROY 2S SAPPHIRE BLOOM)\n",
            "SAMSUNG Galaxy A22 5G (Mint, 128 GB)  (6 GB RAM)\n",
            "Xiaomi 11i 5G (Stealth Black, 128 GB)  (8 GB RAM)\n",
            "Redmi 9A Sport (Carbon Black, 32 GB)  (3 GB RAM)\n",
            "IFB 6 kg 5 Star Aqua Energie, Laundry Add, Tub Clean, Fully Automatic Front Load with In-built Heater White  (Diva Aqua VX)\n",
            "SAMSUNG Galaxy F22 (Denim Blue, 64 GB)  (4 GB RAM)\n",
            "Whirlpool 7.5 kg 5 Star, Ace Wash Station Semi Automatic Top Load Grey  (ACE 7.5 SUPREME GREY DAZZLE)\n",
            "SAMSUNG Metro 313 Dual Sim  (Black)\n",
            "Xiaomi 11i 5G (Camo Green, 128 GB)  (8 GB RAM)\n",
            "SAMSUNG 253 L Frost Free Double Door 3 Star Refrigerator  (Elegant Inox, RT28A3453S8/HL)\n",
            "realme C11 2021 (Cool Blue, 32 GB)  (2 GB RAM)\n",
            "Xiaomi 11i 5G (Camo Green, 128 GB)  (6 GB RAM)\n",
            "realme 8i (Space Black, 64 GB)  (4 GB RAM)\n",
            "Whirlpool 6 kg With Hard water wash Fully Automatic Top Load Grey  (WM ROYAL 6.0 GENX GREY 5YMW)\n",
            "Mi 3i 10000 mAh Power Bank (Fast Charging, 18W)  (Blue,Black,Midnight Black, Lithium Polymer)\n",
            "HP Ryzen 3 Quad Core 5300U - (8 GB/512 GB SSD/Windows 11 Home) 15s-eq2143au Thin and Light Laptop  (15.6 inch, Natural Silver, 1.69 Kg, With MS Office)\n",
            "ASUS Core i3 11th Gen - (8 GB/256 GB SSD/Windows 11 Home) X515EA-EJ312WS Thin and Light Laptop  (15.6 inch, Transparent Silver, 1.80 kg, With MS Office)\n",
            "realme C25_Y (Metal Grey, 64 GB)  (4 GB RAM)\n",
            "Whirlpool 190 L Direct Cool Single Door 2 Star Refrigerator  (Wine Fiesta, WDE 205 CLS PLUS 2S WINE FIESTA)\n",
            "Whirlpool 7 kg 5 Star,Turbo Scrub Technology Semi Automatic Top Load Grey  (SUPERB ATOM 70S GREY DAZZLE (5YR))\n",
            "Redmi 9A Sport (Coral Green, 32 GB)  (2 GB RAM)\n",
            "SAMSUNG Galaxy M12 (Black, 128 GB)  (6 GB RAM)\n",
            "Xiaomi 11Lite NE (Vinyl Black, 128 GB)  (8 GB RAM)\n",
            "realme C21Y (Cross Blue, 64 GB)  (4 GB RAM)\n",
            "Redmi 9A (SeaBlue, 32 GB)  (2 GB RAM)\n",
            "Xiaomi 11Lite NE (Jazz Blue, 128 GB)  (8 GB RAM)\n",
            "realme C21Y (Cross Black, 32 GB)  (3 GB RAM)\n",
            "Whirlpool 7.5 kg 5 Star, Hard Water wash Fully Automatic Top Load Grey  (WM ROYAL PLUS 7.5 GREY 5YMW)\n",
            "Whirlpool 7 kg With Hard water wash Fully Automatic Top Load Grey  (WM Royal 7.0 GENX Grey 5YMW)\n",
            "POCO C31 (Royal Blue, 32 GB)  (3 GB RAM)\n",
            "OnePlus Y Series 80 cm (32 inch) HD Ready LED Smart Android TV  (32HA0A00)\n",
            "Lenovo ThinkBook 13s Core i5 11th Gen - (16 GB/512 GB SSD/Windows 10 Home) TB13s ITL Gen 2 Thin and Light Laptop  (13 inch, Mineral Grey, 1.26 kg, With MS Office)\n",
            "Redmi 9A (Sea Blue, 32 GB)  (3 GB RAM)\n",
            "SAMSUNG 6 kg 5 Star Inverter with Hygiene Steam Fully Automatic Front Load with In-built Heater White  (WW60R20GLMA/TL)\n",
            "HP 15s Ryzen 3 Dual Core 3250U - (8 GB/1 TB HDD/256 GB SSD/Windows 10 Home) 15s-GR0012AU Laptop  (15.6 inch, Natural Silver, 1.82 kg, With MS Office)\n",
            "Thomson 6.5 kg 5 Star Rating, Smart Pro Wash Technology Semi Automatic Top Load White, Grey  (SA96500)\n",
            "LG 80 cm (32 inch) HD Ready LED Smart TV  (32LM565BPTA)\n",
            "realme Narzo 50i (Carbon Black, 32 GB)  (2 GB RAM)\n",
            "Lenovo L - Series 23.8 Inch Full HD LED Backlit IPS Panel with TUV Eye Care, Smart Display Customization with�Lenovo�Artery Monitor (L24i-30)  (AMD Free Sync, Response Time: 4 ms)\n",
            "acer 21.5 inch Full HD IPS Panel White Colour Monitor (HA220Q)  (Frameless, AMD Free Sync, Response Time: 4 ms, 75 Hz Refresh Rate)\n",
            "MSI 27 inch Full HD IPS Panel Monitor (PRO MP271(3PA2))  (Response Time: 5 ms, 75 Hz Refresh Rate)\n",
            "realme 9i (Prism Blue, 64 GB)  (4 GB RAM)\n",
            "acer 19.5 inch HD+ LED Backlit TN Panel Monitor (V206HQL)  (Response Time: 5 ms, 60 Hz Refresh Rate)\n",
            "Candes 6.5 kg Semi Automatic Top Load Red, White  (CTPL65PLSWM)\n",
            "Mi 5X 108 cm (43 inch) Ultra HD (4K) LED Smart Android TV with Dolby Atmos and Dolby Vision\n",
            "Whirlpool 190 L Direct Cool Single Door 2 Star Refrigerator  (Wine, WDE 205 CLS PLUS 2S WINE BLOOM)\n",
            "LAVA A1500  (Black)\n",
            "acer Aspire 7 Core i5 10th Gen - (8 GB/512 GB SSD/Windows 10 Home/4 GB Graphics/NVIDIA GeForce GTX 1650) A715-75G-50TA/ A715-75G-41G/ A715-75G-52AA Gaming Laptop  (15.6 inch, Black, 2.15 Kg)\n",
            "realme 8i (Space Purple, 128 GB)  (6 GB RAM)\n",
            "realme 80 cm (32 inch) HD Ready LED Smart Android TV  (TV 32)\n",
            "realme 8 5G (Supersonic Blue, 128 GB)  (4 GB RAM)\n",
            "Mi 4A Horizon Edition 80 cm (32 inch) HD Ready LED Smart Android TV\n",
            "realme C25_Y (Glacier Blue, 128 GB)  (4 GB RAM)\n",
            "LG 190 L Direct Cool Single Door 4 Star Refrigerator with Base Drawer  (Blue Plumeria, GL-D201ABPY)\n",
            "Mi 4A PRO 80 cm (32 inch) HD Ready LED Smart Android TV\n",
            "Xiaomi 11Lite NE (Jazz Blue, 128 GB)  (6 GB RAM)\n",
            "DELL S Series 24 inch Full HD IPS Panel Monitor (S2421HN)  (AMD Free Sync, Response Time: 4 ms, 75 Hz Refresh Rate)\n",
            "APPLE iPhone SE (Red, 128 GB)\n",
            "Vu Premium 108 cm (43 inch) Ultra HD (4K) LED Smart Android TV  (43PM)\n",
            "Mi 4C 108 cm (43 inch) Full HD LED Smart Android TV\n",
            "DELL Inspiron Core i3 11th Gen - (8 GB/1 TB HDD/256 GB SSD/Windows 11 Home) Inspiron 3511 Thin and Light Laptop  (15.6 Inch, Carbon Black, 1.8 Kgs, With MS Office)\n",
            "Vu Premium 139 cm (55 inch) Ultra HD (4K) LED Smart Android TV  (55PM)\n",
            "LG 108 cm (43 inch) Ultra HD (4K) LED Smart TV  (43UP7500PTZ)\n",
            "Vu Premium TV 80 cm (32 inch) HD Ready LED Smart TV with Bezel-Less Frame  (32UA)\n",
            "Mi 3i 10000 mAh Power Bank (Fast Charging, 18W)  (Blue, Lithium Polymer)\n",
            "realme 8i (Space Purple, 64 GB)  (4 GB RAM)\n",
            "Mi 4A Horizon Edition 108 cm (43 inch) Full HD LED Smart Android TV\n",
            "Xiaomi 11i 5G (Stealth Black, 128 GB)  (6 GB RAM)\n",
            "realme Narzo 30 (Racing Silver, 64 GB)  (6 GB RAM)\n",
            "SAMSUNG 192 L Direct Cool Single Door 2 Star Refrigerator with Base Drawer  (Mystic Overlay Red, RR19A2Z2B6R/NL)\n",
            "realme C25_Y (Metal Grey, 128 GB)  (4 GB RAM)\n",
            "realme 8 (Cyber Black, 128 GB)  (6 GB RAM)\n",
            "Coocaa 80 cm (32 inch) HD Ready LED Smart TV  (32S3U-Pro)\n",
            "OnePlus Y Series 100 cm (40 inch) Full HD LED Smart Android TV  (40FA1A00)\n",
            "REDMI Note 11T 5G (Matte black, 128 GB)  (6 GB RAM)\n",
            "Xiaomi 11i 5G (Purple Mist, 128 GB)  (6 GB RAM)\n",
            "APPLE iPhone SE (Red, 64 GB)\n",
            "realme Narzo 50i (Mint Green, 32 GB)  (2 GB RAM)\n",
            "LAVA A3  (White + Beige S)\n",
            "LAVA Gem  (Blue Gold S)\n",
            "realme 9i (Prism Blue, 128 GB)  (6 GB RAM)\n",
            "SAMSUNG 198 L Direct Cool Single Door 5 Star Refrigerator with Base Drawer  (Delight Indigo, RR21A2H2WTU/HL)\n",
            "realme C11 2021 (Cool Grey, 32 GB)  (2 GB RAM)\n",
            "SAMSUNG 198 L Direct Cool Single Door 4 Star Refrigerator with Base Drawer  (Camellia Blue, RR21T2H2XCU/HL)\n",
            "realme C25Y (Metal Grey, 128 GB)  (4 GB RAM)\n",
            "SAMSUNG GURU 1200  (Black)\n",
            "Vu Premium 108 cm (43 inch) Full HD LED Smart Android TV  (43UA)\n",
            "SAMSUNG 198 L Direct Cool Single Door 5 Star Refrigerator with Base Drawer  (Camellia Blue, RR21T2H2WCU/HL)\n",
            "Redmi 9A (Midnight Black, 32 GB)  (3 GB RAM)\n",
            "realme Narzo 30 (Racing Silver, 128 GB)  (6 GB RAM)\n",
            "REDMI Note 11T 5G (Stardust White, 128 GB)  (6 GB RAM)\n",
            "BenQ 22 inch Full HD LED Backlit VA Panel Monitor (GW2280)  (Response Time: 5 ms, 60 Hz Refresh Rate)\n",
            "REDMI Note 11T 5G (Aquamarine Blue, 128 GB)  (6 GB RAM)\n",
            "realme 8i (Space Black, 128 GB)  (6 GB RAM)\n",
            "Xiaomi 11i Hypercharge 5G (Purple Mist, 128 GB)  (8 GB RAM)\n",
            "SAMSUNG Galaxy F12 (Sky Blue, 128 GB)  (4 GB RAM)\n",
            "Redmi 9A Sport (Metallic Blue, 32 GB)  (3 GB RAM)\n",
            "Mi 3i 20000 mAh Power Bank (Fast Charging, 18W)  (Black, Lithium Polymer)\n",
            "MOTOROLA ZX2 100 cm (40 inch) Full HD LED Smart Android TV with Dolby Atmos and Dolby Vision  (40SAFHDME)\n",
            "ONIDA 6.5 kg Washer only Red  (Liliput)\n",
            "OnePlus Y Series 108 cm (43 inch) Full HD LED Smart Android TV  (43FA0A00)\n",
            "SAMSUNG 7 kg 5 Star Inverter with Diamond Drum Fully Automatic Top Load Silver  (WA70T4262GS/TL)\n",
            "Infinix Hot 11S (7° Purple, 64 GB)  (4 GB RAM)\n",
            "HP Core i3 11th Gen - (8 GB/512 GB SSD/Windows 11 Home) 15s-du3563TU Thin and Light Laptop  (15.6 inch, Jet Black, 1.75 kg, With MS Office)\n",
            "Lenovo Ideapad Gaming 3 Ryzen 5 Hexa Core 5600H - (8 GB/512 GB SSD/Windows 11 Home/4 GB Graphics/NVIDIA GeForce GTX 1650/120 Hz) 15ACH6 Gaming Laptop  (15.6 inch, Shadow Black, 2.25$$kg kg)\n",
            "SAMSUNG 275 L Frost Free Double Door 3 Star Convertible Refrigerator  (Refined Inox, RT30T3743S9/HL)\n",
            "SAMSUNG Galaxy M12 (Blue, 64 GB)  (4 GB RAM)\n",
            "Mi 4A Horizon Edition 100 cm (40 inch) Full HD LED Smart Android TV\n",
            "Lenovo L - Series 21.5 Inch Full HD LED Backlit IPS Panel with TUV Eye Care, Smart Display Customization with�Lenovo�Artery Monitor (L22i-30)  (AMD Free Sync, Response Time: 4 ms)\n",
            "SAMSUNG Galaxy M32 (Black, 128 GB)  (6 GB RAM)\n",
            "Whirlpool 190 L Direct Cool Single Door 2 Star Refrigerator  (Solid Blue / Blue, WDE 205 CLS 2S BLUE)\n",
            "Whirlpool 240 L Frost Free Triple Door Refrigerator  (Magnum Steel, FP 263D PROTTON ROY MAGNUM STEEL(N))\n",
            "Whirlpool 6 kg 5 Star,Turbo Scrub Technology Semi Automatic Top Load Grey  (Superb Atom 60i GREY DAZZLE)\n",
            "Xiaomi 11i Hypercharge 5G (Stealth Black, 128 GB)  (6 GB RAM)\n",
            "realme Narzo 50A (Oxygen Blue, 128 GB)  (4 GB RAM)\n",
            "LG 190 L Direct Cool Single Door 4 Star Refrigerator  (Scarlet Plumeria, GL-B201ASPY)\n",
            "Redmi 9A (Nature Green, 32 GB)  (3 GB RAM)\n",
            "LG 6.5 kg 5 Star Inverter Fully Automatic Top Load Silver  (T65SKSF4Z)\n",
            "acer Nitro 21.5 inch Full HD LED Backlit VA Panel Monitor (QG221Q)  (AMD Free Sync, Response Time: 1 ms, 75 Hz Refresh Rate)\n",
            "ASUS Ryzen 3 Dual Core 3250U 3rd Gen - (8 GB/256 GB SSD/Windows 10 Home) M515DA-BQ322TS Thin and Light Laptop  (15.6 inch, Transparent Silver, 1.80 kg, With MS Office)\n",
            "Whirlpool 6 kg Fully Automatic Front Load White  (Fresh Care 6112)\n",
            "Haier 6.5 kg 5 star Ariel Wash Fully Automatic Top Load Brown, Grey  (HWM65-FE)\n",
            "DELL P-Series 22 inch Full HD LED Backlit IPS Panel Monitor (P2222H)  (Response Time: 5 ms, 60 Hz Refresh Rate)\n",
            "SAMSUNG Galaxy M32 5G (Sky Blue, 128 GB)  (8 GB RAM)\n",
            "Lenovo IdeaPad 3 Ryzen 5 Hexa Core 5500U - (8 GB/512 GB SSD/Windows 11 Home) 15ALC6 Thin and Light Laptop  (15.6 inch, Arctic Grey, 1.65 kg, With MS Office)\n",
            "Mi 5X 138.8 cm (55 inch) Ultra HD (4K) LED Smart Android TV with Dolby Atmos and Dolby Vision\n",
            "realme C11 2021 (Cool Blue, 64 GB)  (4 GB RAM)\n",
            "SAMSUNG 80 cm (32 inch) HD Ready LED Smart TV  (UA32T4340AKXXL / UA32T4340BKXXL)\n",
            "Whirlpool 7.5 kg Fully Automatic Top Load with In-built Heater Grey  (SW Ultra 7.5 (SC) Grey 10YMW)\n",
            "Redmi 9A Sport (Coral Green, 32 GB)  (3 GB RAM)\n",
            "realme 8 5G (Supersonic Black, 128 GB)  (8 GB RAM)\n",
            "Thomson 7 kg Semi Automatic Top Load White, Blue, Grey  (SA97000)\n",
            "realme Narzo 50A (Oxygen Blue, 64 GB)  (4 GB RAM)\n",
            "realme NEO 80 cm (32 inch) HD Ready LED Smart TV  (RMV2101)\n",
            "realme 108 cm (43 inch) Ultra HD (4K) LED Smart Android TV with Handsfree Voice Search and Dolby Vision & Atmos  (RMV2004)\n",
            "Infinix Hot 11S (Green Wave, 64 GB)  (4 GB RAM)\n",
            "SAMSUNG Galaxy F42 5G (Matte Black, 128 GB)  (6 GB RAM)\n",
            "SAMSUNG 24 inch Full HD LED Backlit IPS Panel Monitor (LF24T350FHWXXL)  (AMD Free Sync, Response Time: 5 ms, 75 Hz Refresh Rate)\n"
          ]
        }
      ],
      "source": [
        "for i in t2:\n",
        "    print(i)"
      ]
    }
  ],
  "metadata": {
    "kernelspec": {
      "display_name": "Python 3",
      "language": "python",
      "name": "python3"
    },
    "language_info": {
      "codemirror_mode": {
        "name": "ipython",
        "version": 3
      },
      "file_extension": ".py",
      "mimetype": "text/x-python",
      "name": "python",
      "nbconvert_exporter": "python",
      "pygments_lexer": "ipython3",
      "version": "3.10.7"
    },
    "orig_nbformat": 4,
    "colab": {
      "provenance": []
    }
  },
  "nbformat": 4,
  "nbformat_minor": 0
}